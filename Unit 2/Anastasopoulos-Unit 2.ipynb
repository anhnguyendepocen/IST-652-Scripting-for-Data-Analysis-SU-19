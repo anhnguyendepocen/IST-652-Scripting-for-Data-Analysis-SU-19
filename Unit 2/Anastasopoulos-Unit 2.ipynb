{
 "cells": [
  {
   "cell_type": "markdown",
   "metadata": {},
   "source": [
    "# IST 652 Code\n",
    "## Jason Anastasopoulos\n",
    "\n",
    "#### Email: lanastas@syr.edu\n",
    "#### Website: https://anastasopoulos.io\n",
    "#### Github: https://github.com/ljanastas/\n",
    "\n",
    "**Instructions**: For the NBAfile.py program, for each line, create a string using string formatting that puts the\n",
    "team, attendance, and ticket prices into a formatted string. Each line should look something like:\n",
    "‘The attendance at Atlanta was 13993 and the ticket price was $20.06’\n",
    "Your program should then print these strings instead of the lines. Submit your code and the\n",
    "output of your program.\n",
    "\n",
    "\n",
    "\n"
   ]
  },
  {
   "cell_type": "markdown",
   "metadata": {},
   "source": [
    "## Solution 1\n",
    "\n",
    "This is technically the \"correct\" solution and is the easiest to implmenent but is one of several ways to attack this problem."
   ]
  },
  {
   "cell_type": "code",
   "execution_count": 19,
   "metadata": {},
   "outputs": [
    {
     "name": "stdout",
     "output_type": "stream",
     "text": [
      "The attendance for Atlanta was 13993 and the ticket price was $20.06.\n",
      "The attendance for Boston was 14916 and the ticket price was $22.54.\n",
      "The attendance for Charlotte was 23901 and the ticket price was $17.00.\n",
      "The attendance for Chicago was 18404 and the ticket price was $21.98.\n",
      "The attendance for Cleveland was 16969 and the ticket price was $19.63.\n",
      "The attendance for Dallas was 16868 and the ticket price was $17.05.\n",
      "The attendance for Denver was 12668 and the ticket price was $17.40.\n",
      "The attendance for Detroit was 21454 and the ticket price was $24.42.\n",
      "The attendance for Golden_State was 15025 and the ticket price was $17.04.\n",
      "The attendance for Houston was 15846 and the ticket price was $17.56.\n",
      "The attendance for Indiana was 12885 and the ticket price was $13.77.\n",
      "The attendance for LA_Clippers was 11869 and the ticket price was $21.95.\n",
      "The attendance for LA_Lakers was 17378 and the ticket price was $29.18.\n",
      "The attendance for Miami was 15008 and the ticket price was $17.60.\n",
      "The attendance for Milwaukee was 16088 and the ticket price was $14.08.\n",
      "The attendance for Minnesota was 26160 and the ticket price was $10.92.\n",
      "The attendance for New_Jersey was 12160 and the ticket price was $13.31.\n",
      "The attendance for New_York was 17815 and the ticket price was $22.70.\n",
      "The attendance for Orlando was 15606 and the ticket price was $20.47.\n",
      "The attendance for Philadelphia was 14017 and the ticket price was $19.04.\n",
      "The attendance for Phoenix was 14114 and the ticket price was $16.59.\n",
      "The attendance for Portland was 12884 and the ticket price was $22.19.\n",
      "The attendance for Sacramento was 17014 and the ticket price was $16.96.\n",
      "The attendance for San_Antonio was 14722 and the ticket price was $16.79.\n",
      "The attendance for Seattle was 12244 and the ticket price was $18.11.\n",
      "The attendance for Utah was 12616 and the ticket price was $18.41.\n",
      "The attendance for Washington was 11565 and the ticket price was $14.55.\n"
     ]
    }
   ],
   "source": [
    "# This program reads a file and prints the lines and creates a list of items on the line\n",
    "\n",
    "\n",
    "# open the file for reading (in the same directory as the program)\n",
    "\n",
    "NBAfile = open ('NBA-Attendance-1989.txt', 'r')\n",
    "\n",
    "\n",
    "# iterate over the lines of the file and count the number of lines\n",
    "\n",
    "count = 0\n",
    "\n",
    "NBAlist = [ ]\n",
    "\n",
    "for line in NBAfile:\n",
    "\n",
    "    # increment adds one to the count variable\n",
    "\n",
    "    count += 1\n",
    "\n",
    "    # strip the newline at the end of the line (and other white space from ends)\n",
    "\n",
    "    textline = line.strip()\n",
    "\n",
    "    # split the line on whitespace\n",
    "\n",
    "    items = textline.split()\n",
    "\n",
    "    # add the list of items to the NBAlist\n",
    "    \n",
    "    NBAlist.append(items)\n",
    "    \n",
    "    print('The attendance for {:s}.'.format(items[0])))\n",
    "    \n",
    "# Close the file\n",
    "NBAfile.close()\n"
   ]
  },
  {
   "cell_type": "code",
   "execution_count": 2,
   "metadata": {},
   "outputs": [
    {
     "data": {
      "text/plain": [
       "[['Atlanta', '13993', '20.06'],\n",
       " ['Boston', '14916', '22.54'],\n",
       " ['Charlotte', '23901', '17'],\n",
       " ['Chicago', '18404', '21.98'],\n",
       " ['Cleveland', '16969', '19.63'],\n",
       " ['Dallas', '16868', '17.05'],\n",
       " ['Denver', '12668', '17.4'],\n",
       " ['Detroit', '21454', '24.42'],\n",
       " ['Golden_State', '15025', '17.04'],\n",
       " ['Houston', '15846', '17.56'],\n",
       " ['Indiana', '12885', '13.77'],\n",
       " ['LA_Clippers', '11869', '21.95'],\n",
       " ['LA_Lakers', '17378', '29.18'],\n",
       " ['Miami', '15008', '17.6'],\n",
       " ['Milwaukee', '16088', '14.08'],\n",
       " ['Minnesota', '26160', '10.92'],\n",
       " ['New_Jersey', '12160', '13.31'],\n",
       " ['New_York', '17815', '22.7'],\n",
       " ['Orlando', '15606', '20.47'],\n",
       " ['Philadelphia', '14017', '19.04'],\n",
       " ['Phoenix', '14114', '16.59'],\n",
       " ['Portland', '12884', '22.19'],\n",
       " ['Sacramento', '17014', '16.96'],\n",
       " ['San_Antonio', '14722', '16.79'],\n",
       " ['Seattle', '12244', '18.11'],\n",
       " ['Utah', '12616', '18.41'],\n",
       " ['Washington', '11565', '14.55']]"
      ]
     },
     "execution_count": 2,
     "metadata": {},
     "output_type": "execute_result"
    }
   ],
   "source": [
    "import re\n",
    "import os\n",
    "\n",
    "# Original file\n",
    "# This program reads a file and prints the lines and creates a list of items on the line\n",
    "\n",
    "\n",
    "# open the file for reading (in the same directory as the program)\n",
    "\n",
    "NBAfile = open('NBA-Attendance-1989.txt', 'r') # This opens the file and makes it available for reading\n",
    "\n",
    "NBAlist = []\n",
    "for data in NBAfile:\n",
    "    NBAlist.append(data.strip().split())\n",
    "\n",
    "NBAlist"
   ]
  },
  {
   "cell_type": "code",
   "execution_count": null,
   "metadata": {},
   "outputs": [],
   "source": []
  }
 ],
 "metadata": {
  "kernelspec": {
   "display_name": "Python 3",
   "language": "python",
   "name": "python3"
  },
  "language_info": {
   "codemirror_mode": {
    "name": "ipython",
    "version": 3
   },
   "file_extension": ".py",
   "mimetype": "text/x-python",
   "name": "python",
   "nbconvert_exporter": "python",
   "pygments_lexer": "ipython3",
   "version": "3.7.3"
  }
 },
 "nbformat": 4,
 "nbformat_minor": 2
}
